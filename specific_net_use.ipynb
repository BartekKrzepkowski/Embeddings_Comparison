{
 "cells": [
  {
   "cell_type": "code",
   "execution_count": 1,
   "metadata": {},
   "outputs": [],
   "source": [
    "%load_ext autoreload\n",
    "%autoreload 2"
   ]
  },
  {
   "cell_type": "code",
   "execution_count": 2,
   "metadata": {},
   "outputs": [],
   "source": [
    "import os\n",
    "import numpy as np"
   ]
  },
  {
   "cell_type": "code",
   "execution_count": 3,
   "metadata": {},
   "outputs": [
    {
     "data": {
      "text/html": [
       "<div>\n",
       "<style scoped>\n",
       "    .dataframe tbody tr th:only-of-type {\n",
       "        vertical-align: middle;\n",
       "    }\n",
       "\n",
       "    .dataframe tbody tr th {\n",
       "        vertical-align: top;\n",
       "    }\n",
       "\n",
       "    .dataframe thead th {\n",
       "        text-align: right;\n",
       "    }\n",
       "</style>\n",
       "<table border=\"1\" class=\"dataframe\">\n",
       "  <thead>\n",
       "    <tr style=\"text-align: right;\">\n",
       "      <th></th>\n",
       "      <th>SentenceId</th>\n",
       "      <th>Phrase</th>\n",
       "      <th>Sentiment</th>\n",
       "      <th>df_</th>\n",
       "    </tr>\n",
       "  </thead>\n",
       "  <tbody>\n",
       "    <tr>\n",
       "      <th>0</th>\n",
       "      <td>8068</td>\n",
       "      <td>feminist conspiracy theorist</td>\n",
       "      <td>2</td>\n",
       "      <td>2</td>\n",
       "    </tr>\n",
       "    <tr>\n",
       "      <th>1</th>\n",
       "      <td>8068</td>\n",
       "      <td>conspiracy theorist</td>\n",
       "      <td>2</td>\n",
       "      <td>2</td>\n",
       "    </tr>\n",
       "    <tr>\n",
       "      <th>2</th>\n",
       "      <td>8068</td>\n",
       "      <td>theorist</td>\n",
       "      <td>2</td>\n",
       "      <td>2</td>\n",
       "    </tr>\n",
       "    <tr>\n",
       "      <th>3</th>\n",
       "      <td>8068</td>\n",
       "      <td>named dirty dick</td>\n",
       "      <td>2</td>\n",
       "      <td>2</td>\n",
       "    </tr>\n",
       "    <tr>\n",
       "      <th>4</th>\n",
       "      <td>8068</td>\n",
       "      <td>dirty dick</td>\n",
       "      <td>2</td>\n",
       "      <td>2</td>\n",
       "    </tr>\n",
       "    <tr>\n",
       "      <th>5</th>\n",
       "      <td>8069</td>\n",
       "      <td>the aaa of action, xxx is a blast of adrenalin...</td>\n",
       "      <td>4</td>\n",
       "      <td>2</td>\n",
       "    </tr>\n",
       "    <tr>\n",
       "      <th>6</th>\n",
       "      <td>8069</td>\n",
       "      <td>the aaa of action</td>\n",
       "      <td>3</td>\n",
       "      <td>2</td>\n",
       "    </tr>\n",
       "    <tr>\n",
       "      <th>7</th>\n",
       "      <td>8069</td>\n",
       "      <td>the aaa</td>\n",
       "      <td>2</td>\n",
       "      <td>2</td>\n",
       "    </tr>\n",
       "    <tr>\n",
       "      <th>8</th>\n",
       "      <td>8069</td>\n",
       "      <td>aaa</td>\n",
       "      <td>2</td>\n",
       "      <td>2</td>\n",
       "    </tr>\n",
       "    <tr>\n",
       "      <th>9</th>\n",
       "      <td>8069</td>\n",
       "      <td>, xxx is a blast of adrenalin, rated eee for e...</td>\n",
       "      <td>4</td>\n",
       "      <td>2</td>\n",
       "    </tr>\n",
       "  </tbody>\n",
       "</table>\n",
       "</div>"
      ],
      "text/plain": [
       "   SentenceId                                             Phrase  Sentiment  \\\n",
       "0        8068                       feminist conspiracy theorist          2   \n",
       "1        8068                                conspiracy theorist          2   \n",
       "2        8068                                           theorist          2   \n",
       "3        8068                                   named dirty dick          2   \n",
       "4        8068                                         dirty dick          2   \n",
       "5        8069  the aaa of action, xxx is a blast of adrenalin...          4   \n",
       "6        8069                                  the aaa of action          3   \n",
       "7        8069                                            the aaa          2   \n",
       "8        8069                                                aaa          2   \n",
       "9        8069  , xxx is a blast of adrenalin, rated eee for e...          4   \n",
       "\n",
       "   df_  \n",
       "0    2  \n",
       "1    2  \n",
       "2    2  \n",
       "3    2  \n",
       "4    2  \n",
       "5    2  \n",
       "6    2  \n",
       "7    2  \n",
       "8    2  \n",
       "9    2  "
      ]
     },
     "execution_count": 3,
     "metadata": {},
     "output_type": "execute_result"
    }
   ],
   "source": [
    "from utils.utils import load_data\n",
    "\n",
    "FOLDER_PATH = \"sentiment_datasets/projekt2_data\"\n",
    "\n",
    "data_df = load_data(FOLDER_PATH, df_delimiter=\",\")\n",
    "data_df.head(10)"
   ]
  },
  {
   "cell_type": "code",
   "execution_count": 4,
   "metadata": {},
   "outputs": [
    {
     "data": {
      "image/png": "[encoded data removed]",
      "text/plain": [
       "<Figure size 720x720 with 1 Axes>"
      ]
     },
     "metadata": {
      "needs_background": "light"
     },
     "output_type": "display_data"
    }
   ],
   "source": [
    "data_df[\"Phrase\"].str.split().str.len().plot(kind=\"hist\", title=\"number of tokens in line distribution\", grid=True, figsize=(10,10), bins=50);"
   ]
  },
  {
   "cell_type": "markdown",
   "metadata": {},
   "source": [
    "# USE"
   ]
  },
  {
   "cell_type": "code",
   "execution_count": 5,
   "metadata": {},
   "outputs": [],
   "source": [
    "from preprocess_data.preprocess_data import preprocess_data_word\n",
    "from utils.utils_result import save_report, update_fit_params, evaluation"
   ]
  },
  {
   "cell_type": "code",
   "execution_count": 6,
   "metadata": {},
   "outputs": [],
   "source": [
    "# preprocess data\n",
    "(x_train, y_train), (x_val, y_val), (x_test, y_test), data = preprocess_data_word(data_df, x_label=\"Phrase\", y_label=\"Sentiment\", max_len_seq=50)"
   ]
  },
  {
   "cell_type": "code",
   "execution_count": 7,
   "metadata": {},
   "outputs": [],
   "source": [
    "import tensorflow as tf"
   ]
  },
  {
   "cell_type": "code",
   "execution_count": 8,
   "metadata": {},
   "outputs": [],
   "source": [
    "# general parameter setting\n",
    "tensorboard_params = None\n",
    "\n",
    "fit_params = {\n",
    "    \"x\": x_train,\n",
    "    \"y\": y_train,\n",
    "    \"epochs\": 50,\n",
    "    \"batch_size\": 64,\n",
    "    \"validation_data\": (x_val, y_val) \n",
    "}\n",
    "\n",
    "input_params = {\n",
    "    \"shape\": (1,),\n",
    "    \"dtype\": tf.string\n",
    "}\n",
    "\n",
    "test_result_dict = {}"
   ]
  },
  {
   "cell_type": "markdown",
   "metadata": {},
   "source": [
    "## Phrase Level FFNN"
   ]
  },
  {
   "cell_type": "code",
   "execution_count": 13,
   "metadata": {},
   "outputs": [],
   "source": [
    "from architecture.models import model_ffnn"
   ]
  },
  {
   "cell_type": "code",
   "execution_count": 14,
   "metadata": {},
   "outputs": [
    {
     "name": "stdout",
     "output_type": "stream",
     "text": [
      "INFO:tensorflow:Saver not created because there are no variables in the graph to restore\n"
     ]
    },
    {
     "name": "stderr",
     "output_type": "stream",
     "text": [
      "I0527 21:13:48.991532 140173183612736 saver.py:1483] Saver not created because there are no variables in the graph to restore\n"
     ]
    }
   ],
   "source": [
    "# parameters setting\n",
    "use_params_ffnn = {\n",
    "    \"trainable\": True,\n",
    "    \"output_dim\": 512\n",
    "}\n",
    "\n",
    "params_use_raw = {\n",
    "    \"input_layer\": \"simple_input\",\n",
    "    \"emb_layer\": \"USE\",\n",
    "    \"input_params\": input_params,\n",
    "    \"emb_params\": use_params_ffnn,\n",
    "    \"out_activation\": \"softmax\",\n",
    "    \"out_units\": np.unique(y_train).shape[0],\n",
    "    \"loss\": \"sparse_categorical_crossentropy\",\n",
    "    \"optimizer\": \"adam\"\n",
    "}\n",
    "model_name = \"model_use_ffnn\"\n",
    "model_use_ffnn = model_ffnn(params_use_raw)\n",
    "fit_params, markered_path = update_fit_params(fit_params, model_name=model_name, tensorboard_params=tensorboard_params)"
   ]
  },
  {
   "cell_type": "code",
   "execution_count": null,
   "metadata": {},
   "outputs": [],
   "source": [
    "# training\n",
    "model_use_ffnn.fit(**fit_params);\n",
    "model_use_ffnn = save_report(model=model_use_ffnn, model_name=model_name, markered_path=markered_path)"
   ]
  },
  {
   "cell_type": "code",
   "execution_count": null,
   "metadata": {},
   "outputs": [],
   "source": [
    "# evaluation\n",
    "test_result_dict = evaluation(model=model_use_ffnn, x_test=x_test, y_test=y_test, model_name=model_name, test_result_dict=test_result_dict)"
   ]
  },
  {
   "cell_type": "code",
   "execution_count": null,
   "metadata": {},
   "outputs": [],
   "source": []
  }
 ],
 "metadata": {
  "kernelspec": {
   "display_name": "Python 3",
   "language": "python",
   "name": "python3"
  },
  "language_info": {
   "codemirror_mode": {
    "name": "ipython",
    "version": 3
   },
   "file_extension": ".py",
   "mimetype": "text/x-python",
   "name": "python",
   "nbconvert_exporter": "python",
   "pygments_lexer": "ipython3",
   "version": "3.6.7"
  }
 },
 "nbformat": 4,
 "nbformat_minor": 2
}
