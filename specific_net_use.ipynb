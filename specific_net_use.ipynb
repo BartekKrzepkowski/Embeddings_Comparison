{
 "cells": [
  {
   "cell_type": "code",
   "execution_count": null,
   "metadata": {
    "colab": {},
    "colab_type": "code",
    "id": "vK0daIXtN3zN"
   },
   "outputs": [],
   "source": [
    "%load_ext autoreload\n",
    "%autoreload 2"
   ]
  },
  {
   "cell_type": "code",
   "execution_count": null,
   "metadata": {
    "colab": {},
    "colab_type": "code",
    "id": "Zgpu3cMwN3zQ"
   },
   "outputs": [],
   "source": [
    "import os\n",
    "import numpy as np\n",
    "import tensorflow as tf"
   ]
  },
  {
   "cell_type": "code",
   "execution_count": 3,
   "metadata": {
    "colab": {
     "base_uri": "https://localhost:8080/",
     "height": 356
    },
    "colab_type": "code",
    "executionInfo": {
     "elapsed": 579,
     "status": "ok",
     "timestamp": 1559132661931,
     "user": {
      "displayName": "The channel without any content",
      "photoUrl": "",
      "userId": "13639603838420141009"
     },
     "user_tz": -120
    },
    "id": "o5qfB4NTN3zT",
    "outputId": "59cd1354-f1e1-4026-8f9e-98b33d51b7cc"
   },
   "outputs": [
    {
     "data": {
      "text/html": [
       "<div>\n",
       "<style scoped>\n",
       "    .dataframe tbody tr th:only-of-type {\n",
       "        vertical-align: middle;\n",
       "    }\n",
       "\n",
       "    .dataframe tbody tr th {\n",
       "        vertical-align: top;\n",
       "    }\n",
       "\n",
       "    .dataframe thead th {\n",
       "        text-align: right;\n",
       "    }\n",
       "</style>\n",
       "<table border=\"1\" class=\"dataframe\">\n",
       "  <thead>\n",
       "    <tr style=\"text-align: right;\">\n",
       "      <th></th>\n",
       "      <th>SentenceId</th>\n",
       "      <th>Phrase</th>\n",
       "      <th>Sentiment</th>\n",
       "      <th>df_</th>\n",
       "    </tr>\n",
       "  </thead>\n",
       "  <tbody>\n",
       "    <tr>\n",
       "      <th>0</th>\n",
       "      <td>1</td>\n",
       "      <td>a series of escapades demonstrating the adage ...</td>\n",
       "      <td>1</td>\n",
       "      <td>0</td>\n",
       "    </tr>\n",
       "    <tr>\n",
       "      <th>1</th>\n",
       "      <td>1</td>\n",
       "      <td>a series of escapades demonstrating the adage ...</td>\n",
       "      <td>2</td>\n",
       "      <td>0</td>\n",
       "    </tr>\n",
       "    <tr>\n",
       "      <th>2</th>\n",
       "      <td>1</td>\n",
       "      <td>a series</td>\n",
       "      <td>2</td>\n",
       "      <td>0</td>\n",
       "    </tr>\n",
       "    <tr>\n",
       "      <th>3</th>\n",
       "      <td>1</td>\n",
       "      <td>a</td>\n",
       "      <td>2</td>\n",
       "      <td>0</td>\n",
       "    </tr>\n",
       "    <tr>\n",
       "      <th>4</th>\n",
       "      <td>1</td>\n",
       "      <td>series</td>\n",
       "      <td>2</td>\n",
       "      <td>0</td>\n",
       "    </tr>\n",
       "    <tr>\n",
       "      <th>5</th>\n",
       "      <td>1</td>\n",
       "      <td>of escapades demonstrating the adage that what...</td>\n",
       "      <td>2</td>\n",
       "      <td>0</td>\n",
       "    </tr>\n",
       "    <tr>\n",
       "      <th>6</th>\n",
       "      <td>1</td>\n",
       "      <td>of</td>\n",
       "      <td>2</td>\n",
       "      <td>0</td>\n",
       "    </tr>\n",
       "    <tr>\n",
       "      <th>7</th>\n",
       "      <td>1</td>\n",
       "      <td>escapades demonstrating the adage that what is...</td>\n",
       "      <td>2</td>\n",
       "      <td>0</td>\n",
       "    </tr>\n",
       "    <tr>\n",
       "      <th>8</th>\n",
       "      <td>1</td>\n",
       "      <td>escapades</td>\n",
       "      <td>2</td>\n",
       "      <td>0</td>\n",
       "    </tr>\n",
       "    <tr>\n",
       "      <th>9</th>\n",
       "      <td>1</td>\n",
       "      <td>demonstrating the adage that what is good for ...</td>\n",
       "      <td>2</td>\n",
       "      <td>0</td>\n",
       "    </tr>\n",
       "  </tbody>\n",
       "</table>\n",
       "</div>"
      ],
      "text/plain": [
       "   SentenceId  ... df_\n",
       "0           1  ...   0\n",
       "1           1  ...   0\n",
       "2           1  ...   0\n",
       "3           1  ...   0\n",
       "4           1  ...   0\n",
       "5           1  ...   0\n",
       "6           1  ...   0\n",
       "7           1  ...   0\n",
       "8           1  ...   0\n",
       "9           1  ...   0\n",
       "\n",
       "[10 rows x 4 columns]"
      ]
     },
     "execution_count": 3,
     "metadata": {
      "tags": []
     },
     "output_type": "execute_result"
    }
   ],
   "source": [
    "from utils.utils import load_data\n",
    "\n",
    "FOLDER_PATH = \"projekt2_data\"\n",
    "\n",
    "data_df = load_data(FOLDER_PATH, df_delimiter=\",\")\n",
    "data_df.head(10)"
   ]
  },
  {
   "cell_type": "code",
   "execution_count": 4,
   "metadata": {
    "colab": {
     "base_uri": "https://localhost:8080/",
     "height": 608
    },
    "colab_type": "code",
    "executionInfo": {
     "elapsed": 1353,
     "status": "ok",
     "timestamp": 1559132666026,
     "user": {
      "displayName": "The channel without any content",
      "photoUrl": "",
      "userId": "13639603838420141009"
     },
     "user_tz": -120
    },
    "id": "KtVyfAHSN3zZ",
    "outputId": "de177b89-22e1-47cd-a5ca-1bed220d631d"
   },
   "outputs": [
    {
     "data": {
      "image/png": "[encoded data removed]",
      "text/plain": [
       "<Figure size 720x720 with 1 Axes>"
      ]
     },
     "metadata": {
      "tags": []
     },
     "output_type": "display_data"
    }
   ],
   "source": [
    "data_df[\"Phrase\"].str.split().str.len().plot(kind=\"hist\", title=\"number of tokens in line distribution\", grid=True, figsize=(10,10), bins=50);"
   ]
  },
  {
   "cell_type": "markdown",
   "metadata": {
    "colab_type": "text",
    "id": "vj8MYiGrN3zc"
   },
   "source": [
    "# USE"
   ]
  },
  {
   "cell_type": "code",
   "execution_count": 5,
   "metadata": {
    "colab": {
     "base_uri": "https://localhost:8080/",
     "height": 34
    },
    "colab_type": "code",
    "executionInfo": {
     "elapsed": 576,
     "status": "ok",
     "timestamp": 1559132666512,
     "user": {
      "displayName": "The channel without any content",
      "photoUrl": "",
      "userId": "13639603838420141009"
     },
     "user_tz": -120
    },
    "id": "k8OcLr72N3zd",
    "outputId": "da66b34e-57a6-457e-9210-4849056fac89"
   },
   "outputs": [
    {
     "name": "stderr",
     "output_type": "stream",
     "text": [
      "Using TensorFlow backend.\n"
     ]
    }
   ],
   "source": [
    "from preprocess_data.preprocess_data import preprocess_data_word\n",
    "from utils.utils_result import save_report, update_fit_params, evaluation"
   ]
  },
  {
   "cell_type": "code",
   "execution_count": null,
   "metadata": {
    "colab": {},
    "colab_type": "code",
    "id": "yqOJnqwgN3zg"
   },
   "outputs": [],
   "source": [
    "# preprocess data\n",
    "(x_train, y_train), (x_val, y_val), (x_test, y_test), data = preprocess_data_word(data_df, x_label=\"Phrase\", y_label=\"Sentiment\", max_len_seq=50)"
   ]
  },
  {
   "cell_type": "code",
   "execution_count": null,
   "metadata": {
    "colab": {},
    "colab_type": "code",
    "id": "dIbjrWf8N3zl"
   },
   "outputs": [],
   "source": [
    "# general parameter setting\n",
    "tensorboard_params = None\n",
    "\n",
    "fit_params = {\n",
    "    \"x\": x_train,\n",
    "    \"y\": y_train,\n",
    "    \"epochs\": 50,\n",
    "    \"batch_size\": 64,\n",
    "    \"validation_data\": (x_val, y_val) \n",
    "}\n",
    "\n",
    "input_params = {\n",
    "    \"shape\": (1,),\n",
    "    \"dtype\": tf.string\n",
    "}\n",
    "\n",
    "test_result_dict = {}"
   ]
  },
  {
   "cell_type": "markdown",
   "metadata": {
    "colab_type": "text",
    "id": "MC0jyAWJN3zq"
   },
   "source": [
    "## Phrase Level FFNN"
   ]
  },
  {
   "cell_type": "code",
   "execution_count": 8,
   "metadata": {
    "colab": {
     "base_uri": "https://localhost:8080/",
     "height": 52
    },
    "colab_type": "code",
    "executionInfo": {
     "elapsed": 816,
     "status": "ok",
     "timestamp": 1559132671552,
     "user": {
      "displayName": "The channel without any content",
      "photoUrl": "",
      "userId": "13639603838420141009"
     },
     "user_tz": -120
    },
    "id": "Omik8NaJN3zr",
    "outputId": "5107b0cc-d55e-4d12-e09b-7b5011a05c77"
   },
   "outputs": [
    {
     "name": "stderr",
     "output_type": "stream",
     "text": [
      "WARNING: Logging before flag parsing goes to stderr.\n",
      "W0529 12:24:31.079313 140265220859776 __init__.py:56] Some hub symbols are not available because TensorFlow version is less than 1.14\n"
     ]
    }
   ],
   "source": [
    "from architecture.models import model_ffnn"
   ]
  },
  {
   "cell_type": "code",
   "execution_count": 9,
   "metadata": {
    "colab": {
     "base_uri": "https://localhost:8080/",
     "height": 280
    },
    "colab_type": "code",
    "executionInfo": {
     "elapsed": 7305,
     "status": "ok",
     "timestamp": 1559132681275,
     "user": {
      "displayName": "The channel without any content",
      "photoUrl": "",
      "userId": "13639603838420141009"
     },
     "user_tz": -120
    },
    "id": "L3jVCCEON3zt",
    "outputId": "d6550db9-4d67-436e-9a02-5b5502293475"
   },
   "outputs": [
    {
     "name": "stdout",
     "output_type": "stream",
     "text": [
      "WARNING:tensorflow:From /usr/local/lib/python3.6/dist-packages/tensorflow/python/ops/control_flow_ops.py:3632: colocate_with (from tensorflow.python.framework.ops) is deprecated and will be removed in a future version.\n",
      "Instructions for updating:\n",
      "Colocations handled automatically by placer.\n"
     ]
    },
    {
     "name": "stderr",
     "output_type": "stream",
     "text": [
      "W0529 12:24:35.377940 140265220859776 deprecation.py:323] From /usr/local/lib/python3.6/dist-packages/tensorflow/python/ops/control_flow_ops.py:3632: colocate_with (from tensorflow.python.framework.ops) is deprecated and will be removed in a future version.\n",
      "Instructions for updating:\n",
      "Colocations handled automatically by placer.\n"
     ]
    },
    {
     "name": "stdout",
     "output_type": "stream",
     "text": [
      "INFO:tensorflow:Saver not created because there are no variables in the graph to restore\n"
     ]
    },
    {
     "name": "stderr",
     "output_type": "stream",
     "text": [
      "I0529 12:24:36.991383 140265220859776 saver.py:1483] Saver not created because there are no variables in the graph to restore\n"
     ]
    },
    {
     "name": "stdout",
     "output_type": "stream",
     "text": [
      "WARNING:tensorflow:From /usr/local/lib/python3.6/dist-packages/tensorflow/python/keras/layers/core.py:143: calling dropout (from tensorflow.python.ops.nn_ops) with keep_prob is deprecated and will be removed in a future version.\n",
      "Instructions for updating:\n",
      "Please use `rate` instead of `keep_prob`. Rate should be set to `rate = 1 - keep_prob`.\n"
     ]
    },
    {
     "name": "stderr",
     "output_type": "stream",
     "text": [
      "W0529 12:24:37.203354 140265220859776 deprecation.py:506] From /usr/local/lib/python3.6/dist-packages/tensorflow/python/keras/layers/core.py:143: calling dropout (from tensorflow.python.ops.nn_ops) with keep_prob is deprecated and will be removed in a future version.\n",
      "Instructions for updating:\n",
      "Please use `rate` instead of `keep_prob`. Rate should be set to `rate = 1 - keep_prob`.\n"
     ]
    }
   ],
   "source": [
    "# parameters setting\n",
    "use_params_ffnn = {\n",
    "    \"trainable\": True,\n",
    "    \"output_dim\": 512\n",
    "}\n",
    "\n",
    "params_use_raw = {\n",
    "    \"input_layer\": \"simple_input\",\n",
    "    \"emb_layer\": \"USE\",\n",
    "    \"input_params\": input_params,\n",
    "    \"emb_params\": use_params_ffnn,\n",
    "    \"out_activation\": \"softmax\",\n",
    "    \"out_units\": np.unique(y_train).shape[0],\n",
    "    \"loss\": \"sparse_categorical_crossentropy\",\n",
    "    \"optimizer\": \"adam\"\n",
    "}\n",
    "model_name = \"model_use_ffnn\"\n",
    "model_use_ffnn = model_ffnn(params_use_raw)\n",
    "fit_params, markered_path = update_fit_params(fit_params, model_name=model_name, tensorboard_params=tensorboard_params)"
   ]
  },
  {
   "cell_type": "code",
   "execution_count": 11,
   "metadata": {
    "colab": {
     "base_uri": "https://localhost:8080/",
     "height": 1282
    },
    "colab_type": "code",
    "executionInfo": {
     "elapsed": 6143040,
     "status": "ok",
     "timestamp": 1559138842381,
     "user": {
      "displayName": "The channel without any content",
      "photoUrl": "",
      "userId": "13639603838420141009"
     },
     "user_tz": -120
    },
    "id": "XEQbRhCtN3zx",
    "outputId": "21babe26-5507-45db-8433-b83e07bb78d6"
   },
   "outputs": [
    {
     "name": "stdout",
     "output_type": "stream",
     "text": [
      "Train on 139999 samples, validate on 7800 samples\n",
      "WARNING:tensorflow:From /usr/local/lib/python3.6/dist-packages/tensorflow/python/ops/math_ops.py:3066: to_int32 (from tensorflow.python.ops.math_ops) is deprecated and will be removed in a future version.\n",
      "Instructions for updating:\n",
      "Use tf.cast instead.\n"
     ]
    },
    {
     "name": "stderr",
     "output_type": "stream",
     "text": [
      "W0529 12:24:59.909473 140265220859776 deprecation.py:323] From /usr/local/lib/python3.6/dist-packages/tensorflow/python/ops/math_ops.py:3066: to_int32 (from tensorflow.python.ops.math_ops) is deprecated and will be removed in a future version.\n",
      "Instructions for updating:\n",
      "Use tf.cast instead.\n",
      "/usr/local/lib/python3.6/dist-packages/tensorflow/python/ops/gradients_impl.py:110: UserWarning: Converting sparse IndexedSlices to a dense Tensor of unknown shape. This may consume a large amount of memory.\n",
      "  \"Converting sparse IndexedSlices to a dense Tensor of unknown shape. \"\n"
     ]
    },
    {
     "name": "stdout",
     "output_type": "stream",
     "text": [
      "Epoch 1/50\n",
      "139999/139999 [==============================] - 448s 3ms/sample - loss: 0.9392 - acc: 0.6193 - val_loss: 1.1082 - val_acc: 0.5133\n",
      "Epoch 2/50\n",
      "139999/139999 [==============================] - 435s 3ms/sample - loss: 0.7846 - acc: 0.6751 - val_loss: 2.0671 - val_acc: 0.2037\n",
      "Epoch 3/50\n",
      "139999/139999 [==============================] - 435s 3ms/sample - loss: 0.7285 - acc: 0.6970 - val_loss: 1.1345 - val_acc: 0.5897\n",
      "Epoch 4/50\n",
      "139999/139999 [==============================] - 440s 3ms/sample - loss: 0.6931 - acc: 0.7105 - val_loss: 1.0699 - val_acc: 0.5892\n",
      "Epoch 5/50\n",
      "139999/139999 [==============================] - 434s 3ms/sample - loss: 0.6654 - acc: 0.7195 - val_loss: 1.1410 - val_acc: 0.5744\n",
      "Epoch 6/50\n",
      "139999/139999 [==============================] - 435s 3ms/sample - loss: 0.6441 - acc: 0.7292 - val_loss: 1.8178 - val_acc: 0.5356\n",
      "Epoch 7/50\n",
      "139999/139999 [==============================] - 442s 3ms/sample - loss: 0.6215 - acc: 0.7378 - val_loss: 1.0690 - val_acc: 0.5609\n",
      "Epoch 8/50\n",
      "139999/139999 [==============================] - 435s 3ms/sample - loss: 0.6070 - acc: 0.7437 - val_loss: 1.1621 - val_acc: 0.5563\n",
      "Epoch 9/50\n",
      "139999/139999 [==============================] - 441s 3ms/sample - loss: 0.5940 - acc: 0.7484 - val_loss: 1.0672 - val_acc: 0.5740\n",
      "Epoch 10/50\n",
      "139999/139999 [==============================] - 435s 3ms/sample - loss: 0.5835 - acc: 0.7499 - val_loss: 1.3347 - val_acc: 0.5279\n",
      "Epoch 11/50\n",
      "139999/139999 [==============================] - 437s 3ms/sample - loss: 0.5678 - acc: 0.7564 - val_loss: 1.3066 - val_acc: 0.5295\n",
      "Epoch 12/50\n",
      "139999/139999 [==============================] - 438s 3ms/sample - loss: 0.5604 - acc: 0.7594 - val_loss: 1.1291 - val_acc: 0.5777\n",
      "Epoch 13/50\n",
      "139999/139999 [==============================] - 436s 3ms/sample - loss: 0.5511 - acc: 0.7625 - val_loss: 1.1903 - val_acc: 0.5517\n",
      "Epoch 14/50\n",
      "139999/139999 [==============================] - 436s 3ms/sample - loss: 0.5431 - acc: 0.7667 - val_loss: 1.1902 - val_acc: 0.5137\n"
     ]
    },
    {
     "data": {
      "image/png": "[encoded data removed]",
      "text/plain": [
       "<Figure size 1440x720 with 4 Axes>"
      ]
     },
     "metadata": {
      "tags": []
     },
     "output_type": "display_data"
    }
   ],
   "source": [
    "# training\n",
    "model_use_ffnn.fit(**fit_params);\n",
    "model_use_ffnn = save_report(model=model_use_ffnn, model_name=model_name, markered_path=markered_path)"
   ]
  },
  {
   "cell_type": "code",
   "execution_count": 12,
   "metadata": {
    "colab": {
     "base_uri": "https://localhost:8080/",
     "height": 34
    },
    "colab_type": "code",
    "executionInfo": {
     "elapsed": 796060,
     "status": "ok",
     "timestamp": 1559138848295,
     "user": {
      "displayName": "The channel without any content",
      "photoUrl": "",
      "userId": "13639603838420141009"
     },
     "user_tz": -120
    },
    "id": "OUId8QlrN3zz",
    "outputId": "5af27774-7c7c-4968-f188-d4600d59d272"
   },
   "outputs": [
    {
     "name": "stdout",
     "output_type": "stream",
     "text": [
      "Wynik na zbiorze testowym modelu model_use_ffnn, to 0.5703\n"
     ]
    }
   ],
   "source": [
    "# evaluation\n",
    "test_result_dict = evaluation(model=model_use_ffnn, x_test=x_test, y_test=y_test, model_name=model_name, test_result_dict=test_result_dict)"
   ]
  },
  {
   "cell_type": "code",
   "execution_count": null,
   "metadata": {
    "colab": {},
    "colab_type": "code",
    "id": "PvWivR0Ki-de"
   },
   "outputs": [],
   "source": []
  }
 ],
 "metadata": {
  "accelerator": "GPU",
  "colab": {
   "collapsed_sections": [],
   "name": "specific_net_use.ipynb",
   "provenance": [],
   "toc_visible": true,
   "version": "0.3.2"
  },
  "kernelspec": {
   "display_name": "Python 3",
   "language": "python",
   "name": "python3"
  },
  "language_info": {
   "codemirror_mode": {
    "name": "ipython",
    "version": 3
   },
   "file_extension": ".py",
   "mimetype": "text/x-python",
   "name": "python",
   "nbconvert_exporter": "python",
   "pygments_lexer": "ipython3",
   "version": "3.6.7"
  }
 },
 "nbformat": 4,
 "nbformat_minor": 2
}
