{
 "cells": [
  {
   "cell_type": "code",
   "execution_count": 1,
   "metadata": {},
   "outputs": [],
   "source": [
    "%load_ext autoreload\n",
    "%autoreload 2"
   ]
  },
  {
   "cell_type": "code",
   "execution_count": 2,
   "metadata": {},
   "outputs": [],
   "source": [
    "import os\n",
    "import numpy as np\n",
    "import pandas as pd\n",
    "import matplotlib.pyplot as plt\n",
    "from datetime import datetime"
   ]
  },
  {
   "cell_type": "code",
   "execution_count": 3,
   "metadata": {},
   "outputs": [
    {
     "data": {
      "text/html": [
       "<div>\n",
       "<style scoped>\n",
       "    .dataframe tbody tr th:only-of-type {\n",
       "        vertical-align: middle;\n",
       "    }\n",
       "\n",
       "    .dataframe tbody tr th {\n",
       "        vertical-align: top;\n",
       "    }\n",
       "\n",
       "    .dataframe thead th {\n",
       "        text-align: right;\n",
       "    }\n",
       "</style>\n",
       "<table border=\"1\" class=\"dataframe\">\n",
       "  <thead>\n",
       "    <tr style=\"text-align: right;\">\n",
       "      <th></th>\n",
       "      <th>SentenceId</th>\n",
       "      <th>Phrase</th>\n",
       "      <th>Sentiment</th>\n",
       "      <th>df_</th>\n",
       "    </tr>\n",
       "  </thead>\n",
       "  <tbody>\n",
       "    <tr>\n",
       "      <th>0</th>\n",
       "      <td>8068</td>\n",
       "      <td>feminist conspiracy theorist</td>\n",
       "      <td>2</td>\n",
       "      <td>2</td>\n",
       "    </tr>\n",
       "    <tr>\n",
       "      <th>1</th>\n",
       "      <td>8068</td>\n",
       "      <td>conspiracy theorist</td>\n",
       "      <td>2</td>\n",
       "      <td>2</td>\n",
       "    </tr>\n",
       "    <tr>\n",
       "      <th>2</th>\n",
       "      <td>8068</td>\n",
       "      <td>theorist</td>\n",
       "      <td>2</td>\n",
       "      <td>2</td>\n",
       "    </tr>\n",
       "    <tr>\n",
       "      <th>3</th>\n",
       "      <td>8068</td>\n",
       "      <td>named dirty dick</td>\n",
       "      <td>2</td>\n",
       "      <td>2</td>\n",
       "    </tr>\n",
       "    <tr>\n",
       "      <th>4</th>\n",
       "      <td>8068</td>\n",
       "      <td>dirty dick</td>\n",
       "      <td>2</td>\n",
       "      <td>2</td>\n",
       "    </tr>\n",
       "    <tr>\n",
       "      <th>5</th>\n",
       "      <td>8069</td>\n",
       "      <td>the aaa of action, xxx is a blast of adrenalin...</td>\n",
       "      <td>4</td>\n",
       "      <td>2</td>\n",
       "    </tr>\n",
       "    <tr>\n",
       "      <th>6</th>\n",
       "      <td>8069</td>\n",
       "      <td>the aaa of action</td>\n",
       "      <td>3</td>\n",
       "      <td>2</td>\n",
       "    </tr>\n",
       "    <tr>\n",
       "      <th>7</th>\n",
       "      <td>8069</td>\n",
       "      <td>the aaa</td>\n",
       "      <td>2</td>\n",
       "      <td>2</td>\n",
       "    </tr>\n",
       "    <tr>\n",
       "      <th>8</th>\n",
       "      <td>8069</td>\n",
       "      <td>aaa</td>\n",
       "      <td>2</td>\n",
       "      <td>2</td>\n",
       "    </tr>\n",
       "    <tr>\n",
       "      <th>9</th>\n",
       "      <td>8069</td>\n",
       "      <td>, xxx is a blast of adrenalin, rated eee for e...</td>\n",
       "      <td>4</td>\n",
       "      <td>2</td>\n",
       "    </tr>\n",
       "  </tbody>\n",
       "</table>\n",
       "</div>"
      ],
      "text/plain": [
       "   SentenceId                                             Phrase  Sentiment  \\\n",
       "0        8068                       feminist conspiracy theorist          2   \n",
       "1        8068                                conspiracy theorist          2   \n",
       "2        8068                                           theorist          2   \n",
       "3        8068                                   named dirty dick          2   \n",
       "4        8068                                         dirty dick          2   \n",
       "5        8069  the aaa of action, xxx is a blast of adrenalin...          4   \n",
       "6        8069                                  the aaa of action          3   \n",
       "7        8069                                            the aaa          2   \n",
       "8        8069                                                aaa          2   \n",
       "9        8069  , xxx is a blast of adrenalin, rated eee for e...          4   \n",
       "\n",
       "   df_  \n",
       "0    2  \n",
       "1    2  \n",
       "2    2  \n",
       "3    2  \n",
       "4    2  \n",
       "5    2  \n",
       "6    2  \n",
       "7    2  \n",
       "8    2  \n",
       "9    2  "
      ]
     },
     "execution_count": 3,
     "metadata": {},
     "output_type": "execute_result"
    }
   ],
   "source": [
    "from utils import load_data\n",
    "\n",
    "FOLDER_PATH = \"sentiment_datasets/projekt2_data\"\n",
    "\n",
    "data_df = load_data(FOLDER_PATH, df_delimiter=\",\")\n",
    "data_df.head(10)"
   ]
  },
  {
   "cell_type": "code",
   "execution_count": 4,
   "metadata": {},
   "outputs": [
    {
     "data": {
      "image/png": "[encoded data removed]",
      "text/plain": [
       "<Figure size 720x720 with 1 Axes>"
      ]
     },
     "metadata": {
      "needs_background": "light"
     },
     "output_type": "display_data"
    }
   ],
   "source": [
    "data_df[\"Phrase\"].str.len().plot(kind=\"hist\", title=\"line lenght distribution\", grid=True, figsize=(10,10), bins=50);"
   ]
  },
  {
   "cell_type": "markdown",
   "metadata": {},
   "source": [
    "# Character Level RNN"
   ]
  },
  {
   "cell_type": "code",
   "execution_count": 5,
   "metadata": {},
   "outputs": [
    {
     "name": "stderr",
     "output_type": "stream",
     "text": [
      "WARNING: Logging before flag parsing goes to stderr.\n",
      "W0521 23:14:57.952896 139693678757696 __init__.py:56] Some hub symbols are not available because TensorFlow version is less than 1.14\n"
     ]
    }
   ],
   "source": [
    "from preprocess_data import preprocess_data_char\n",
    "from models import model_rnn\n",
    "from layers import OneHotLayer\n",
    "from tensorflow.keras.layers import Embedding\n",
    "from tensorflow.keras.callbacks import TensorBoard, EarlyStopping\n",
    "from utils import get_proper_callback\n",
    "from utils_result import save_report"
   ]
  },
  {
   "cell_type": "code",
   "execution_count": 6,
   "metadata": {},
   "outputs": [],
   "source": [
    "(x_train, y_train), (x_val, y_val), (x_test, y_test), int2char = preprocess_data_char(data_df, x_label=\"Phrase\", y_label=\"Sentiment\", max_len_seq=200)"
   ]
  },
  {
   "cell_type": "code",
   "execution_count": 7,
   "metadata": {},
   "outputs": [],
   "source": [
    "callback_params = {\n",
    "    \"histogram_freq\": 1,\n",
    "    \"write_graph\": True,\n",
    "    \"write_images\": True\n",
    "}\n",
    "\n",
    "fit_params = {\n",
    "    \"x\": x_train,\n",
    "    \"y\": y_train,\n",
    "    \"batch_size\": 64,\n",
    "    \"epochs\": 50,\n",
    "    \"validation_data\": (x_val, y_val) \n",
    "}"
   ]
  },
  {
   "cell_type": "code",
   "execution_count": 8,
   "metadata": {},
   "outputs": [],
   "source": [
    "VOCAB_SIZE = len(int2char)\n",
    "MAX_LEN_SEQ = x_train.shape[1]\n",
    "EMB_OUTPUT_DIM = min(32, VOCAB_SIZE)"
   ]
  },
  {
   "cell_type": "markdown",
   "metadata": {},
   "source": [
    "## One-Hot Layer"
   ]
  },
  {
   "cell_type": "code",
   "execution_count": 9,
   "metadata": {},
   "outputs": [
    {
     "name": "stdout",
     "output_type": "stream",
     "text": [
      "WARNING:tensorflow:From /usr/local/lib/python3.6/dist-packages/tensorflow/python/ops/control_flow_ops.py:423: colocate_with (from tensorflow.python.framework.ops) is deprecated and will be removed in a future version.\n",
      "Instructions for updating:\n",
      "Colocations handled automatically by placer.\n"
     ]
    },
    {
     "name": "stderr",
     "output_type": "stream",
     "text": [
      "W0521 23:15:02.651003 139693678757696 deprecation.py:323] From /usr/local/lib/python3.6/dist-packages/tensorflow/python/ops/control_flow_ops.py:423: colocate_with (from tensorflow.python.framework.ops) is deprecated and will be removed in a future version.\n",
      "Instructions for updating:\n",
      "Colocations handled automatically by placer.\n"
     ]
    },
    {
     "name": "stdout",
     "output_type": "stream",
     "text": [
      "WARNING:tensorflow:From /usr/local/lib/python3.6/dist-packages/tensorflow/python/keras/layers/core.py:143: calling dropout (from tensorflow.python.ops.nn_ops) with keep_prob is deprecated and will be removed in a future version.\n",
      "Instructions for updating:\n",
      "Please use `rate` instead of `keep_prob`. Rate should be set to `rate = 1 - keep_prob`.\n"
     ]
    },
    {
     "name": "stderr",
     "output_type": "stream",
     "text": [
      "W0521 23:15:02.659601 139693678757696 deprecation.py:506] From /usr/local/lib/python3.6/dist-packages/tensorflow/python/keras/layers/core.py:143: calling dropout (from tensorflow.python.ops.nn_ops) with keep_prob is deprecated and will be removed in a future version.\n",
      "Instructions for updating:\n",
      "Please use `rate` instead of `keep_prob`. Rate should be set to `rate = 1 - keep_prob`.\n"
     ]
    }
   ],
   "source": [
    "model_params_ohl = {\n",
    "    \"shape\": x_train.shape[1:],\n",
    "    \"input_dtype\": x_train.dtype,\n",
    "    \"emb_layer\": OneHotLayer(input_dim=VOCAB_SIZE),\n",
    "    \"out_units\": np.unique(y_train).shape[0],\n",
    "    \"out_activation\": \"softmax\",\n",
    "    \"loss\": \"sparse_categorical_crossentropy\",\n",
    "    \"optimizer\": \"adam\",\n",
    "    \"is_bert\": False\n",
    "}\n",
    "\n",
    "model_ohl = model_rnn(model_params_ohl)"
   ]
  },
  {
   "cell_type": "code",
   "execution_count": null,
   "metadata": {},
   "outputs": [
    {
     "name": "stdout",
     "output_type": "stream",
     "text": [
      "Train on 139999 samples, validate on 7800 samples\n",
      "WARNING:tensorflow:From /usr/local/lib/python3.6/dist-packages/tensorflow/python/ops/math_ops.py:3066: to_int32 (from tensorflow.python.ops.math_ops) is deprecated and will be removed in a future version.\n",
      "Instructions for updating:\n",
      "Use tf.cast instead.\n"
     ]
    },
    {
     "name": "stderr",
     "output_type": "stream",
     "text": [
      "W0521 23:15:07.668621 139693678757696 deprecation.py:323] From /usr/local/lib/python3.6/dist-packages/tensorflow/python/ops/math_ops.py:3066: to_int32 (from tensorflow.python.ops.math_ops) is deprecated and will be removed in a future version.\n",
      "Instructions for updating:\n",
      "Use tf.cast instead.\n"
     ]
    },
    {
     "name": "stdout",
     "output_type": "stream",
     "text": [
      "WARNING:tensorflow:From /usr/local/lib/python3.6/dist-packages/tensorflow/python/ops/math_grad.py:102: div (from tensorflow.python.ops.math_ops) is deprecated and will be removed in a future version.\n",
      "Instructions for updating:\n",
      "Deprecated in favor of operator or tf.math.divide.\n"
     ]
    },
    {
     "name": "stderr",
     "output_type": "stream",
     "text": [
      "W0521 23:15:07.760468 139693678757696 deprecation.py:323] From /usr/local/lib/python3.6/dist-packages/tensorflow/python/ops/math_grad.py:102: div (from tensorflow.python.ops.math_ops) is deprecated and will be removed in a future version.\n",
      "Instructions for updating:\n",
      "Deprecated in favor of operator or tf.math.divide.\n"
     ]
    },
    {
     "name": "stdout",
     "output_type": "stream",
     "text": [
      "Epoch 1/50\n",
      "139999/139999 [==============================] - 537s 4ms/sample - loss: 1.2522 - acc: 0.5030 - val_loss: 1.2216 - val_acc: 0.4917\n",
      "Epoch 2/50\n",
      "139999/139999 [==============================] - 533s 4ms/sample - loss: 1.2045 - acc: 0.5188 - val_loss: 1.2235 - val_acc: 0.4956\n",
      "Epoch 3/50\n",
      "139999/139999 [==============================] - 528s 4ms/sample - loss: 1.1940 - acc: 0.5200 - val_loss: 1.2132 - val_acc: 0.4997\n",
      "Epoch 4/50\n",
      "139999/139999 [==============================] - 517s 4ms/sample - loss: 1.1851 - acc: 0.5228 - val_loss: 1.2182 - val_acc: 0.4981\n",
      "Epoch 5/50\n",
      "110912/139999 [======================>.......] - ETA: 1:46 - loss: 1.1756 - acc: 0.5272"
     ]
    }
   ],
   "source": [
    "callback_params[\"log_dir\"] = \"logs/fit/char_level/ohl/\"+ datetime.now().strftime(\"%Y%m%d-%H%M%S\") + \"/\"\n",
    "fit_params[\"callbacks\"] = [get_proper_callback(TensorBoard, callback_params)]\n",
    "fit_params[\"callbacks\"] += [EarlyStopping(patience=5)]\n",
    "\n",
    "history_ohl = model_ohl.fit(**fit_params)\n",
    "save_report(model_ohl, \"model_ohl\", history_ohl.history)"
   ]
  },
  {
   "cell_type": "markdown",
   "metadata": {},
   "source": [
    "## Embedding Layer"
   ]
  },
  {
   "cell_type": "code",
   "execution_count": null,
   "metadata": {},
   "outputs": [],
   "source": [
    "model_params_el = {\n",
    "    \"shape\": x_train.shape[1:],\n",
    "    \"input_dtype\": x_train.dtype,\n",
    "    \"emb_layer\": Embedding(input_dim=VOCAB_SIZE, output_dim=EMB_OUTPUT_DIM, input_length=MAX_LEN_SEQ, trainable=True),\n",
    "    \"out_units\": np.unique(y_train).shape[0],\n",
    "    \"out_activation\": \"softmax\",\n",
    "    \"loss\": \"sparse_categorical_crossentropy\",\n",
    "    \"optimizer\": \"adam\",\n",
    "    \"is_bert\": False\n",
    "}\n",
    "\n",
    "model_el = model_rnn(model_params_el)"
   ]
  },
  {
   "cell_type": "code",
   "execution_count": null,
   "metadata": {},
   "outputs": [],
   "source": [
    "callback_params[\"log_dir\"] = \"logs/fit/char_level/el/\"+ datetime.now().strftime(\"%Y%m%d-%H%M%S\") + \"/\"\n",
    "fit_params[\"callbacks\"] = [get_proper_callback(TensorBoard, callback_params)]\n",
    "fit_params[\"callbacks\"] += [EarlyStopping(patience=5)]\n",
    "\n",
    "history_el = model_el.fit(**fit_params)\n",
    "save_report(model_el, \"model_el\", history_el.history)"
   ]
  },
  {
   "cell_type": "code",
   "execution_count": null,
   "metadata": {},
   "outputs": [],
   "source": []
  }
 ],
 "metadata": {
  "kernelspec": {
   "display_name": "Python 3",
   "language": "python",
   "name": "python3"
  },
  "language_info": {
   "codemirror_mode": {
    "name": "ipython",
    "version": 3
   },
   "file_extension": ".py",
   "mimetype": "text/x-python",
   "name": "python",
   "nbconvert_exporter": "python",
   "pygments_lexer": "ipython3",
   "version": "3.6.7"
  }
 },
 "nbformat": 4,
 "nbformat_minor": 2
}
